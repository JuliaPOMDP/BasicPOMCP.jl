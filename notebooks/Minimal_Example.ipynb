{
 "cells": [
  {
   "cell_type": "markdown",
   "metadata": {},
   "source": [
    "# Minimal Example: Light-Dark 1D\n",
    "\n",
    "This is designed to be a minimal example to get POMCP running. The problaem is a one dimensional light-dark problem. The goal is to be near 0. Observations are noisy measuerements of position.\n",
    "\n",
    "```\n",
    "   -3-2-1 0 1 2 3\n",
    "...| | | | | | | | ...\n",
    "          G   S\n",
    "```\n",
    "\n",
    "The state is an integer. Measurements are most accurate at x = 5 (see the noise function below), and have uniformly distributed noise."
   ]
  },
  {
   "cell_type": "markdown",
   "metadata": {},
   "source": [
    "## Problem Definition\n",
    "\n",
    "First, we will define the problem with the generative interface - this is all that is needed to use the POMCP Planner."
   ]
  },
  {
   "cell_type": "code",
   "execution_count": 1,
   "metadata": {
    "collapsed": false
   },
   "outputs": [],
   "source": [
    "importall POMDPs"
   ]
  },
  {
   "cell_type": "code",
   "execution_count": 2,
   "metadata": {
    "collapsed": false
   },
   "outputs": [],
   "source": [
    "immutable LightDark1DState\n",
    "    status::Int\n",
    "    x::Int\n",
    "end\n",
    "Base.:(==)(s1::LightDark1DState, s2::LightDark1DState) = (s1.status == s2.status) && (s1.x == s2.x)\n",
    "Base.hash(s::LightDark1DState, h::UInt64=zero(UInt64)) = hash(s.status, hash(s.x, h));"
   ]
  },
  {
   "cell_type": "code",
   "execution_count": 3,
   "metadata": {
    "collapsed": false
   },
   "outputs": [],
   "source": [
    "type LightDark1D <: POMDPs.POMDP{LightDark1DState,Int,Int}\n",
    "    discount_factor::Float64\n",
    "    correct_r::Float64\n",
    "    incorrect_r::Float64\n",
    "    step_size::Int\n",
    "    movement_cost::Float64\n",
    "end\n",
    "LightDark1D() = LightDark1D(0.9, 10, -10, 1, 0)\n",
    "discount(p::LightDark1D) = p.discount_factor\n",
    "isterminal(::LightDark1D, s::LightDark1DState) = s.status < 0;"
   ]
  },
  {
   "cell_type": "code",
   "execution_count": 4,
   "metadata": {
    "collapsed": false
   },
   "outputs": [],
   "source": [
    "noise(x) = ceil(Int, abs(x - 5)/sqrt(2) + 1e-2)\n",
    "\n",
    "function generate_o(p::LightDark1D, s::LightDark1DState, a::Int, sp::LightDark1DState, rng::AbstractRNG)\n",
    "    n = noise(sp.x)\n",
    "    return sp.x + rand(rng, -n:n)\n",
    "end\n",
    "\n",
    "function generate_s(p::LightDark1D, s::LightDark1DState, a::Int, rng::AbstractRNG)\n",
    "    if s.status < 0                  # Terminal state\n",
    "        return s\n",
    "    end\n",
    "    if a == 0                   # Enter\n",
    "        sprime = LightDark1DState(-1, s.x)\n",
    "    else\n",
    "        sprime = LightDark1DState(s.status, s.x+a)\n",
    "    end\n",
    "    return sprime\n",
    "end\n",
    "\n",
    "function reward(p::LightDark1D, s::LightDark1DState, a::Int, sp::LightDark1DState)\n",
    "    if s.status < 0\n",
    "        return 0.0\n",
    "    end\n",
    "    if a == 0\n",
    "        if abs(s.x) < 1\n",
    "            return p.correct_r\n",
    "        else\n",
    "            return p.incorrect_r\n",
    "        end\n",
    "    else\n",
    "        return 0.0\n",
    "    end \n",
    "end;"
   ]
  },
  {
   "cell_type": "code",
   "execution_count": 5,
   "metadata": {
    "collapsed": true
   },
   "outputs": [],
   "source": [
    "actions(::LightDark1D) = [-1, 0, 1] # Left Stop Right\n",
    "n_actions(::LightDark1D) = 3\n",
    "\n",
    "immutable LDNormalStateDist\n",
    "    mean::Float64\n",
    "    std::Float64\n",
    "end\n",
    "function Base.rand(rng::AbstractRNG, d::LDNormalStateDist)\n",
    "    return LightDark1DState(0, round(Int, d.mean + randn(rng)*d.std))\n",
    "end\n",
    "function initial_state_distribution(pomdp::LightDark1D)\n",
    "    return LDNormalStateDist(2, 3)\n",
    "end;"
   ]
  },
  {
   "cell_type": "markdown",
   "metadata": {},
   "source": [
    "## Using the POMCP Planner\n",
    "\n",
    "We can now use the POMCP Planner to make a decision about the best action to be taken at a state."
   ]
  },
  {
   "cell_type": "code",
   "execution_count": 6,
   "metadata": {
    "collapsed": false
   },
   "outputs": [
    {
     "name": "stderr",
     "output_type": "stream",
     "text": [
      "\u001b[1m\u001b[36mINFO: \u001b[39m\u001b[22m\u001b[36mRecompiling stale cache file /home/zach/.julia/lib/v0.6/POMDPToolbox.ji for module POMDPToolbox.\n",
      "\u001b[39m\u001b[1m\u001b[36mINFO: \u001b[39m\u001b[22m\u001b[36mRecompiling stale cache file /home/zach/.julia/lib/v0.6/ParticleFilters.ji for module ParticleFilters.\n",
      "\u001b[39m\u001b[1m\u001b[36mINFO: \u001b[39m\u001b[22m\u001b[36mRecompiling stale cache file /home/zach/.julia/lib/v0.6/MCTS.ji for module MCTS.\n",
      "\u001b[39m"
     ]
    }
   ],
   "source": [
    "using BasicPOMCP\n",
    "using POMDPToolbox"
   ]
  },
  {
   "cell_type": "code",
   "execution_count": 7,
   "metadata": {
    "collapsed": false
   },
   "outputs": [],
   "source": [
    "solver = POMCPSolver()\n",
    "pomdp = LightDark1D()\n",
    "planner = solve(solver, pomdp);"
   ]
  },
  {
   "cell_type": "code",
   "execution_count": 8,
   "metadata": {
    "collapsed": false
   },
   "outputs": [
    {
     "name": "stdout",
     "output_type": "stream",
     "text": [
      "    POMCP Recommends action 1 for belief LDNormalStateDist(2.0, 3.0).\n",
      "\n",
      "    (this may be a bad choice because the POMCP Parameters are set to their defaults.)\n",
      "\n"
     ]
    }
   ],
   "source": [
    "b = initial_state_distribution(pomdp)\n",
    "a = action(planner, b)\n",
    "println(\"\"\"\n",
    "    POMCP Recommends action $a for belief $b.\n",
    "\n",
    "    (this may be a bad choice because the POMCP Parameters are set to their defaults.)\n",
    "\"\"\")"
   ]
  },
  {
   "cell_type": "markdown",
   "metadata": {},
   "source": [
    "## Running in Simulation\n",
    "\n",
    "Unfortunately this model won't yet work in simulation because, since we have not defined the observation probability distribution, the weighted particle filter used for belief updates will not work."
   ]
  },
  {
   "cell_type": "code",
   "execution_count": 9,
   "metadata": {
    "collapsed": false
   },
   "outputs": [
    {
     "name": "stderr",
     "output_type": "stream",
     "text": [
      "ERROR:  LightDark1D is not compatible with the default belief updater for POMCP.\n",
      "\n",
      "    The default belief updater for a POMCPSolver is the `SIRParticleFilter` from ParticleFilters.jl. However this requires `ParticleFilters.obs_weight(::LightDark1D, ::LightDark1DState, ::Int64, ::LightDark1DState, ::Int64)`, and this was not implemented. You can still use the POMCPSolver without this, but simulation with this updater will probably fail. See the documentation for `ParticleFilters.obs_weight` for more details.\n"
     ]
    }
   ],
   "source": [
    "try\n",
    "    simulate(RolloutSimulator(), pomdp, planner)\n",
    "catch ex\n",
    "    print(STDERR, \"ERROR: \")\n",
    "    showerror(STDERR, ex)\n",
    "end"
   ]
  },
  {
   "cell_type": "markdown",
   "metadata": {},
   "source": [
    "## Enabling Belief Updates\n",
    "\n",
    "In order for the particle filter to re-weight the particles, we need to define the observation distribution."
   ]
  },
  {
   "cell_type": "code",
   "execution_count": 10,
   "metadata": {
    "collapsed": false
   },
   "outputs": [
    {
     "data": {
      "text/plain": [
       "observation (generic function with 4 methods)"
      ]
     },
     "execution_count": 10,
     "metadata": {},
     "output_type": "execute_result"
    }
   ],
   "source": [
    "immutable LDObsDist\n",
    "    x::Int\n",
    "    noise::Int\n",
    "end\n",
    "\n",
    "function pdf(d::LDObsDist, x::Int)\n",
    "    if abs(x-d.x) <= d.noise\n",
    "        return 1/(2*d.noise+1)\n",
    "    else\n",
    "        return 0.0\n",
    "    end\n",
    "end\n",
    "\n",
    "function observation(p::LightDark1D, a::Int, sp::LightDark1DState)\n",
    "    return LDObsDist(sp.x, noise(sp.x))\n",
    "end"
   ]
  },
  {
   "cell_type": "markdown",
   "metadata": {},
   "source": [
    "Now we can run a simulation with a particle filter."
   ]
  },
  {
   "cell_type": "code",
   "execution_count": 11,
   "metadata": {
    "collapsed": true
   },
   "outputs": [],
   "source": [
    "using ParticleFilters"
   ]
  },
  {
   "cell_type": "code",
   "execution_count": 12,
   "metadata": {
    "collapsed": false
   },
   "outputs": [
    {
     "data": {
      "text/plain": [
       "2.058911320946491"
      ]
     },
     "execution_count": 12,
     "metadata": {},
     "output_type": "execute_result"
    }
   ],
   "source": [
    "filter = SIRParticleFilter(pomdp, 1000)\n",
    "simulate(RolloutSimulator(), pomdp, planner, filter)"
   ]
  }
 ],
 "metadata": {
  "anaconda-cloud": {},
  "kernelspec": {
   "display_name": "Julia 0.6.0",
   "language": "julia",
   "name": "julia-0.6"
  },
  "language_info": {
   "file_extension": ".jl",
   "mimetype": "application/julia",
   "name": "julia",
   "version": "0.6.0"
  }
 },
 "nbformat": 4,
 "nbformat_minor": 1
}
