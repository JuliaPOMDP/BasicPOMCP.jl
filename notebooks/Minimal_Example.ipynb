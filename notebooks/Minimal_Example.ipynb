{
 "cells": [
  {
   "cell_type": "markdown",
   "metadata": {},
   "source": [
    "# Minimal Example: Light-Dark 1D\n",
    "\n",
    "This is designed to be a minimal example to get POMCP running. The problem is a one dimensional light-dark problem. The state is the position, which is unknown initially. The agent can move left (a=-1) or right (a=1) or can choose to terminate the problem (a=0). If the state is in (-1, 1) when the problem is ended, a reward is given, otherwise there is a penalty. Observations are noisy measuerements of position.\n",
    "\n",
    "```\n",
    "   -3-2-1 0 1 2 3\n",
    "...| | | | | | | | ...\n",
    "          G   S\n",
    "```\n",
    "\n",
    "The state is an integer. Measurements are most accurate at x = 5 (see the noise function below), and have uniformly distributed noise."
   ]
  },
  {
   "cell_type": "markdown",
   "metadata": {},
   "source": [
    "## Problem Definition\n",
    "\n",
    "First, we will define the problem with the generative interface - this is all that is needed to use the POMCP Planner."
   ]
  },
  {
   "cell_type": "code",
   "execution_count": 1,
   "metadata": {},
   "outputs": [],
   "source": [
    "using POMDPs\n",
    "using Distributions # for Normal\n",
    "using Random\n",
    "import POMDPs: initialstate_distribution, actions, n_actions, reward, generate_o, generate_s, discount, isterminal\n",
    "Random.seed!(1);"
   ]
  },
  {
   "cell_type": "code",
   "execution_count": 2,
   "metadata": {},
   "outputs": [],
   "source": [
    "mutable struct LightDark1D <: POMDPs.POMDP{Float64,Int,Int}\n",
    "    discount_factor::Float64\n",
    "    correct_r::Float64\n",
    "    incorrect_r::Float64\n",
    "    step_size::Int\n",
    "    movement_cost::Float64\n",
    "end\n",
    "LightDark1D() = LightDark1D(0.9, 10, -10, 1, 0)\n",
    "discount(p::LightDark1D) = p.discount_factor\n",
    "isterminal(::LightDark1D, s::Float64) = isnan(s);"
   ]
  },
  {
   "cell_type": "code",
   "execution_count": 3,
   "metadata": {},
   "outputs": [],
   "source": [
    "noise(x) = ceil(Int, abs(x - 5)/sqrt(2) + 1e-2)\n",
    "\n",
    "function generate_o(p::LightDark1D, s::Float64, a::Int, sp::Float64, rng::AbstractRNG)\n",
    "    if isnan(sp)\n",
    "        return 0\n",
    "    else\n",
    "        n = noise(sp)\n",
    "        return round(Int, sp) + rand(rng, -n:n)\n",
    "    end\n",
    "end\n",
    "\n",
    "function generate_s(p::LightDark1D, s::Float64, a::Int, rng::AbstractRNG)\n",
    "    if a == 0\n",
    "        return NaN\n",
    "    else\n",
    "        return s+a\n",
    "    end\n",
    "end\n",
    "\n",
    "function reward(p::LightDark1D, s::Float64, a::Int, sp::Float64)\n",
    "    if a == 0\n",
    "        if abs(s) < 1\n",
    "            return p.correct_r\n",
    "        else\n",
    "            return p.incorrect_r\n",
    "        end\n",
    "    else\n",
    "        return 0.0\n",
    "    end \n",
    "end;"
   ]
  },
  {
   "cell_type": "code",
   "execution_count": 4,
   "metadata": {},
   "outputs": [],
   "source": [
    "actions(::LightDark1D) = [-1, 0, 1] # Left Stop Right\n",
    "n_actions(::LightDark1D) = 3\n",
    "\n",
    "function initialstate_distribution(pomdp::LightDark1D)\n",
    "    return Normal(2.0, 3.0)\n",
    "end;"
   ]
  },
  {
   "cell_type": "markdown",
   "metadata": {},
   "source": [
    "## Using the POMCP Planner\n",
    "\n",
    "We can now use the POMCP Planner to make a decision about the best action to be taken at a state."
   ]
  },
  {
   "cell_type": "code",
   "execution_count": 5,
   "metadata": {},
   "outputs": [],
   "source": [
    "using BasicPOMCP\n",
    "using POMDPSimulators"
   ]
  },
  {
   "cell_type": "code",
   "execution_count": 6,
   "metadata": {},
   "outputs": [],
   "source": [
    "solver = POMCPSolver(tree_queries=10000, c=10)\n",
    "pomdp = LightDark1D()\n",
    "planner = solve(solver, pomdp);"
   ]
  },
  {
   "cell_type": "code",
   "execution_count": 7,
   "metadata": {
    "scrolled": true
   },
   "outputs": [
    {
     "name": "stdout",
     "output_type": "stream",
     "text": [
      "    POMCP Recommends action -1 for belief Normal{Float64}(μ=2.0, σ=3.0).\n",
      "\n",
      "    (this may be a bad choice because the POMCP Parameters are set to their defaults.)\n",
      "\n"
     ]
    }
   ],
   "source": [
    "b = initialstate_distribution(pomdp)\n",
    "a = action(planner, b)\n",
    "println(\"\"\"\n",
    "    POMCP Recommends action $a for belief $b.\n",
    "\n",
    "    (this may be a bad choice because the POMCP Parameters are set to their defaults.)\n",
    "\"\"\")"
   ]
  },
  {
   "cell_type": "markdown",
   "metadata": {},
   "source": [
    "### Simulations\n",
    "\n",
    "We can also use the planner in a simulation:"
   ]
  },
  {
   "cell_type": "code",
   "execution_count": 8,
   "metadata": {},
   "outputs": [
    {
     "name": "stdout",
     "output_type": "stream",
     "text": [
      "(s, a, r, sp, o) = (1.1450149205203342, -1, 0.0, 0.14501492052033416, -3)\n",
      "(s, a, r, sp, o) = (0.14501492052033416, 0, 10.0, NaN, 0)\n"
     ]
    }
   ],
   "source": [
    "for (s,a,r,sp,o) in stepthrough(pomdp, planner, \"sarspo\")\n",
    "    @show (s,a,r,sp,o)\n",
    "end"
   ]
  },
  {
   "cell_type": "markdown",
   "metadata": {},
   "source": [
    "## Reliable Belief Updates\n",
    "\n",
    "By default, if the POMDP does not have an explicit observation model implemented (`POMDPs.observation()` or `POMDPModelTools.obs_weight()`), POMCP will attempt to use the unweighted rejection particle filter defined here: https://github.com/JuliaPOMDP/ParticleFilters.jl/blob/master/src/unweighted.jl. Our `LightDark1D` POMDP has a small enough observation space for that to work, but in most cases, we will need to use a weighted particle filter, which will require definition of the observation distribution."
   ]
  },
  {
   "cell_type": "markdown",
   "metadata": {},
   "source": [
    "## Enabling Weighted Belief Updates\n",
    "\n",
    "In order for the particle filter to re-weight the particles, we need to define the observation distribution."
   ]
  },
  {
   "cell_type": "code",
   "execution_count": 9,
   "metadata": {},
   "outputs": [],
   "source": [
    "struct LDObsDist\n",
    "    x::Int\n",
    "    noise::Int\n",
    "end\n",
    "\n",
    "function POMDPs.pdf(d::LDObsDist, x::Int)\n",
    "    if abs(x-d.x) <= d.noise\n",
    "        return 1/(2*d.noise+1)\n",
    "    else\n",
    "        return 0.0\n",
    "    end\n",
    "end\n",
    "\n",
    "function POMDPs.observation(p::LightDark1D, a::Int, sp::Float64)\n",
    "    if isnan(sp)\n",
    "        return LDObsDist(0, 0)\n",
    "    else\n",
    "        return LDObsDist(round(Int, sp), noise(sp))\n",
    "    end\n",
    "end"
   ]
  },
  {
   "cell_type": "markdown",
   "metadata": {},
   "source": [
    "Now we can run a simulation with a particle filter."
   ]
  },
  {
   "cell_type": "code",
   "execution_count": 10,
   "metadata": {},
   "outputs": [],
   "source": [
    "using ParticleFilters"
   ]
  },
  {
   "cell_type": "code",
   "execution_count": 11,
   "metadata": {},
   "outputs": [
    {
     "name": "stdout",
     "output_type": "stream",
     "text": [
      "(s, a, r, sp, o) = (6.839945177296756, -1, 0.0, 5.839945177296756, 7)\n",
      "(s, a, r, sp, o) = (5.839945177296756, -1, 0.0, 4.839945177296756, 4)\n",
      "(s, a, r, sp, o) = (4.839945177296756, -1, 0.0, 3.839945177296756, 4)\n",
      "(s, a, r, sp, o) = (3.839945177296756, -1, 0.0, 2.839945177296756, 1)\n",
      "(s, a, r, sp, o) = (2.839945177296756, -1, 0.0, 1.839945177296756, 2)\n",
      "(s, a, r, sp, o) = (1.839945177296756, -1, 0.0, 0.8399451772967561, 0)\n",
      "(s, a, r, sp, o) = (0.8399451772967561, -1, 0.0, -0.1600548227032439, -2)\n",
      "(s, a, r, sp, o) = (-0.1600548227032439, 0, 10.0, NaN, 0)\n"
     ]
    }
   ],
   "source": [
    "filter = SIRParticleFilter(pomdp, 1000)\n",
    "for (s,a,r,sp,o) in stepthrough(pomdp, planner, filter, \"sarspo\")\n",
    "    @show (s,a,r,sp,o)\n",
    "end"
   ]
  },
  {
   "cell_type": "code",
   "execution_count": null,
   "metadata": {},
   "outputs": [],
   "source": []
  }
 ],
 "metadata": {
  "anaconda-cloud": {},
  "kernelspec": {
   "display_name": "Julia 1.0.0",
   "language": "julia",
   "name": "julia-1.0"
  },
  "language_info": {
   "file_extension": ".jl",
   "mimetype": "application/julia",
   "name": "julia",
   "version": "1.0.0"
  }
 },
 "nbformat": 4,
 "nbformat_minor": 1
}
