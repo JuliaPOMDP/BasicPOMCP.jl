{
 "cells": [
  {
   "cell_type": "code",
   "execution_count": 1,
   "metadata": {
    "collapsed": false
   },
   "outputs": [],
   "source": [
    "# addprocs(30);\n",
    "addprocs(7);"
   ]
  },
  {
   "cell_type": "code",
   "execution_count": 2,
   "metadata": {
    "collapsed": false
   },
   "outputs": [],
   "source": [
    "using POMDPModels\n",
    "using BasicPOMCP\n",
    "using POMDPs\n",
    "using POMDPToolbox\n",
    "\n",
    "@everywhere begin\n",
    "    using POMDPModels\n",
    "    using BasicPOMCP\n",
    "    using POMDPs\n",
    "    using POMDPToolbox\n",
    "    import POMDPs: action, updater\n",
    "end"
   ]
  },
  {
   "cell_type": "code",
   "execution_count": 3,
   "metadata": {
    "collapsed": false
   },
   "outputs": [],
   "source": [
    "N = 1000;\n",
    "# N = 100;\n",
    "problem = BabyPOMDP(-5, -10);"
   ]
  },
  {
   "cell_type": "code",
   "execution_count": 4,
   "metadata": {
    "collapsed": false
   },
   "outputs": [
    {
     "data": {
      "text/plain": [
       "est_reward (generic function with 1 method)"
      ]
     },
     "execution_count": 4,
     "metadata": {},
     "output_type": "execute_result"
    }
   ],
   "source": [
    "function est_reward(problem, policy, belief, N; eps=0.01)\n",
    "    sum = @parallel (+) for i in 1:N\n",
    "        sim_rng = MersenneTwister(i)\n",
    "        sim = POMDPToolbox.RolloutSimulator(rng=sim_rng, initial_state=false, eps=eps)\n",
    "        if isa(policy, FeedWhenCrying)\n",
    "            up = updater(policy)\n",
    "        else\n",
    "            up = updater(problem)\n",
    "        end\n",
    "        POMDPs.simulate(sim, problem, policy, up, initialize_belief(up,belief))\n",
    "    end\n",
    "    return sum/N;\n",
    "end"
   ]
  },
  {
   "cell_type": "code",
   "execution_count": 5,
   "metadata": {
    "collapsed": false
   },
   "outputs": [
    {
     "name": "stdout",
     "output_type": "stream",
     "text": [
      "  5.693364 seconds (712.34 k allocations: 28.889 MB, 0.11% gc time)\n",
      "-15.778715013004313\n"
     ]
    }
   ],
   "source": [
    "@time er = est_reward(problem, FeedWhenCrying(), false, N)\n",
    "println(er)"
   ]
  },
  {
   "cell_type": "markdown",
   "metadata": {},
   "source": [
    "This is better than in the crying babies test because epsilon is large and, more importantly, it gets a notcrying observation on the first step every time"
   ]
  },
  {
   "cell_type": "code",
   "execution_count": 6,
   "metadata": {
    "collapsed": false
   },
   "outputs": [
    {
     "name": "stdout",
     "output_type": "stream",
     "text": [
      "  1.724261 seconds (199.96 k allocations: 8.096 MB)\n",
      "-32.396648905123115\n"
     ]
    }
   ],
   "source": [
    "# Random\n",
    "pol_rng = MersenneTwister(7)\n",
    "@time er = est_reward(problem, RandomPolicy(problem, rng=pol_rng), BoolDistribution(0.5), N)\n",
    "println(er)"
   ]
  },
  {
   "cell_type": "code",
   "execution_count": 7,
   "metadata": {
    "collapsed": false
   },
   "outputs": [
    {
     "name": "stdout",
     "output_type": "stream",
     "text": [
      " 46.605113 seconds (77.22 k allocations: 3.253 MB)\n",
      "-15.801811194693038\n"
     ]
    }
   ],
   "source": [
    "# POMCP with FWC rollout policy\n",
    "rng = MersenneTwister(3)\n",
    "\n",
    "solver = POMCPSolver(estimate_value=RolloutEstimator(FeedWhenCrying()),\n",
    "                    max_depth=44, # eps = 0.01\n",
    "                    c=20.0,\n",
    "                    tree_queries=300, \n",
    "                    rng=rng)\n",
    "                    \n",
    "\n",
    "policy = solve(solver, problem)\n",
    "\n",
    "@time er = est_reward(problem, policy, BoolDistribution(0.0), N)\n",
    "println(er)"
   ]
  },
  {
   "cell_type": "code",
   "execution_count": 8,
   "metadata": {
    "collapsed": false
   },
   "outputs": [
    {
     "name": "stdout",
     "output_type": "stream",
     "text": [
      " 61.995754 seconds (51.56 k allocations: 2.262 MB)\n",
      "-15.992283417459882\n"
     ]
    }
   ],
   "source": [
    "# POMCP with Random rollout policy\n",
    "rng = MersenneTwister(2)\n",
    "rollout_pol_rng = MersenneTwister(2)\n",
    "\n",
    "solver = POMCPSolver(estimate_value=RolloutEstimator(RandomPolicy(problem, rng=rollout_pol_rng)),\n",
    "                     max_depth=44, # eps = 0.01\n",
    "                     c=20.0,\n",
    "                     tree_queries=300, \n",
    "                     rng=rng)\n",
    "\n",
    "policy = solve(solver, problem)\n",
    "\n",
    "@time er = est_reward(problem, policy, BoolDistribution(0.0), N)\n",
    "println(er)"
   ]
  },
  {
   "cell_type": "code",
   "execution_count": 9,
   "metadata": {
    "collapsed": false
   },
   "outputs": [
    {
     "name": "stdout",
     "output_type": "stream",
     "text": [
      "  0.732722 seconds (34.79 k allocations: 1.487 MB)\n",
      "-15.525869513040346\n"
     ]
    }
   ],
   "source": [
    "# Optimal policy for these particular problem parameters:\n",
    "# if the belief that the baby is hungry is over .28206, then feed (see DMU book)\n",
    "@everywhere begin\n",
    "    type OptBabyPolicy <: POMDPs.Policy end\n",
    "    function action(p::OptBabyPolicy, b::BoolDistribution, a=false)\n",
    "        a = b.p>0.28206\n",
    "        return a\n",
    "    end\n",
    "    updater(::OptBabyPolicy) = updater(BabyPOMDP(-5,-10))\n",
    "end\n",
    "@time er = est_reward(problem, OptBabyPolicy(), BoolDistribution(0.0), N)\n",
    "println(er)"
   ]
  },
  {
   "cell_type": "code",
   "execution_count": null,
   "metadata": {
    "collapsed": true
   },
   "outputs": [],
   "source": []
  }
 ],
 "metadata": {
  "anaconda-cloud": {},
  "kernelspec": {
   "display_name": "Julia 0.5.1",
   "language": "julia",
   "name": "julia-0.5"
  },
  "language_info": {
   "file_extension": ".jl",
   "mimetype": "application/julia",
   "name": "julia",
   "version": "0.5.1"
  }
 },
 "nbformat": 4,
 "nbformat_minor": 0
}
